{
 "cells": [
  {
   "cell_type": "code",
   "execution_count": 6,
   "id": "aac6813f",
   "metadata": {},
   "outputs": [
    {
     "data": {
      "text/plain": [
       "1"
      ]
     },
     "execution_count": 6,
     "metadata": {},
     "output_type": "execute_result"
    }
   ],
   "source": [
    "import os\n",
    "len([name for name in os.listdir('./src/cnn_satellite/data/sat_images/') if os.path.isfile(name)])"
   ]
  },
  {
   "cell_type": "code",
   "execution_count": 8,
   "id": "96958b58",
   "metadata": {},
   "outputs": [
    {
     "name": "stdout",
     "output_type": "stream",
     "text": [
      "11561\n"
     ]
    }
   ],
   "source": [
    "lst = os.listdir('./src/cnn_satellite/data/sat_images/') # your directory path\n",
    "number_files = len(lst)\n",
    "print(number_files)"
   ]
  },
  {
   "cell_type": "code",
   "execution_count": null,
   "id": "95fe5413",
   "metadata": {},
   "outputs": [],
   "source": []
  }
 ],
 "metadata": {
  "kernelspec": {
   "display_name": "Python 3 (ipykernel)",
   "language": "python",
   "name": "python3"
  },
  "language_info": {
   "codemirror_mode": {
    "name": "ipython",
    "version": 3
   },
   "file_extension": ".py",
   "mimetype": "text/x-python",
   "name": "python",
   "nbconvert_exporter": "python",
   "pygments_lexer": "ipython3",
   "version": "3.9.12"
  }
 },
 "nbformat": 4,
 "nbformat_minor": 5
}
